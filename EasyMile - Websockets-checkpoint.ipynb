{
 "cells": [
  {
   "cell_type": "code",
   "execution_count": 3,
   "metadata": {},
   "outputs": [
    {
     "ename": "ModuleNotFoundError",
     "evalue": "No module named 'websocket'",
     "output_type": "error",
     "traceback": [
      "\u001b[1;31m---------------------------------------------------------------------------\u001b[0m",
      "\u001b[1;31mModuleNotFoundError\u001b[0m                       Traceback (most recent call last)",
      "\u001b[1;32m<ipython-input-3-3e60f881b6bc>\u001b[0m in \u001b[0;36m<module>\u001b[1;34m\u001b[0m\n\u001b[0;32m      1\u001b[0m \u001b[1;32mimport\u001b[0m \u001b[0mjson\u001b[0m\u001b[1;33m\u001b[0m\u001b[1;33m\u001b[0m\u001b[0m\n\u001b[0;32m      2\u001b[0m \u001b[1;32mimport\u001b[0m \u001b[0mrequests\u001b[0m\u001b[1;33m\u001b[0m\u001b[1;33m\u001b[0m\u001b[0m\n\u001b[1;32m----> 3\u001b[1;33m \u001b[1;32mimport\u001b[0m \u001b[0mwebsocket\u001b[0m\u001b[1;33m\u001b[0m\u001b[1;33m\u001b[0m\u001b[0m\n\u001b[0m\u001b[0;32m      4\u001b[0m \u001b[1;31m##2 types of Websockets: vehicle position, vehicle state\u001b[0m\u001b[1;33m\u001b[0m\u001b[1;33m\u001b[0m\u001b[1;33m\u001b[0m\u001b[0m\n\u001b[0;32m      5\u001b[0m \u001b[1;31m##Change vehicle_positions to vehicle_states to use vehicle states topic\u001b[0m\u001b[1;33m\u001b[0m\u001b[1;33m\u001b[0m\u001b[1;33m\u001b[0m\u001b[0m\n",
      "\u001b[1;31mModuleNotFoundError\u001b[0m: No module named 'websocket'"
     ]
    }
   ],
   "source": [
    "import json\n",
    "import requests\n",
    "import websocket\n",
    "##2 types of Websockets: vehicle position, vehicle state\n",
    "##Change vehicle_positions to vehicle_states to use vehicle states topic"
   ]
  },
  {
   "cell_type": "code",
   "execution_count": 1,
   "metadata": {},
   "outputs": [
    {
     "ename": "SyntaxError",
     "evalue": "invalid syntax (<ipython-input-1-80efbd46f2b9>, line 1)",
     "output_type": "error",
     "traceback": [
      "\u001b[1;36m  File \u001b[1;32m\"<ipython-input-1-80efbd46f2b9>\"\u001b[1;36m, line \u001b[1;32m1\u001b[0m\n\u001b[1;33m    var ws = new WebSocket(\"wss://https://lta-test-sitecc.eu-stage.fm.easymile.com/api/public/v3/websocket?bearer_token=[access_token]\")\u001b[0m\n\u001b[1;37m         ^\u001b[0m\n\u001b[1;31mSyntaxError\u001b[0m\u001b[1;31m:\u001b[0m invalid syntax\n"
     ]
    }
   ],
   "source": [
    "var ws = new WebSocket(\"wss://https://lta-test-sitecc.eu-stage.fm.easymile.com/api/public/v3/websocket?bearer_token=[access_token]\")\n",
    "#access token obtained from previous script\n",
    "\n",
    "ws.addEventListener('error', function(event) {console.error('Websocket error', event)})\n",
    "\n",
    "ws.addEventListener('open', function(event) {\n",
    "  ##Subscribe to all vehicle updates\n",
    "  ws.send(\n",
    "    JSON.stringify({\n",
    "      event: 'phx_join',\n",
    "      payload: {},\n",
    "      ref: '1',\n",
    "      topic: 'vehicle_positions:*',\n",
    "    }),\n",
    "  );\n",
    "});\n",
    "\n",
    "ws.addEventListener('message', function(event) {\n",
    "##A new message is sent for each update of the vehicle.\n",
    "##The payload of the message has the same structure as the `attributes` field in a vehicle state.\n",
    "  const data = JSON.parse(event.data);\n",
    "  if (data.topic === 'vehicle_positions:*' && data.event === 'vehicle_position') {\n",
    "    const vehiclePosition = data.payload;\n",
    "    console.log('Received vehicle position for vehicle', vehiclePosition.data.id, vehiclePosition);\n",
    "  }\n",
    "});\n",
    "    \n",
    "##Heartbeat to maintain websocket activity\n",
    "hbcounter = 0;\n",
    "window.setInterval(function() {\n",
    "  ws.send(\n",
    "    JSON.stringify({\n",
    "      event: 'heartbeat',\n",
    "      payload: {},\n",
    "      ref: counter.toString(),\n",
    "      topic: 'phoenix',\n",
    "    }),\n",
    "  );\n",
    "  hbcounter += 1;\n",
    "}, 30000);"
   ]
  },
  {
   "cell_type": "code",
   "execution_count": null,
   "metadata": {},
   "outputs": [],
   "source": []
  }
 ],
 "metadata": {
  "kernelspec": {
   "display_name": "Python 3",
   "language": "python",
   "name": "python3"
  },
  "language_info": {
   "codemirror_mode": {
    "name": "ipython",
    "version": 3
   },
   "file_extension": ".py",
   "mimetype": "text/x-python",
   "name": "python",
   "nbconvert_exporter": "python",
   "pygments_lexer": "ipython3",
   "version": "3.7.3"
  }
 },
 "nbformat": 4,
 "nbformat_minor": 2
}
